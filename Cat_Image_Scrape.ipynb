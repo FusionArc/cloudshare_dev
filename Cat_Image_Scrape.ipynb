{
  "nbformat": 4,
  "nbformat_minor": 0,
  "metadata": {
    "colab": {
      "name": "Cat-Image-Scrape.ipynb",
      "provenance": [],
      "private_outputs": true,
      "toc_visible": true,
      "authorship_tag": "ABX9TyM/33d6KZfxSspr+490KjaV",
      "include_colab_link": true
    },
    "kernelspec": {
      "name": "python3",
      "display_name": "Python 3"
    }
  },
  "cells": [
    {
      "cell_type": "markdown",
      "metadata": {
        "id": "view-in-github",
        "colab_type": "text"
      },
      "source": [
        "<a href=\"https://colab.research.google.com/github/FusionArc/cloudshare_dev/blob/master/Cat_Image_Scrape.ipynb\" target=\"_parent\"><img src=\"https://colab.research.google.com/assets/colab-badge.svg\" alt=\"Open In Colab\"/></a>"
      ]
    },
    {
      "cell_type": "code",
      "metadata": {
        "id": "tce-5flE-Cnr",
        "colab_type": "code",
        "colab": {}
      },
      "source": [
        "import os\n",
        "import requests\n",
        "import pandas as pd\n",
        "import json\n",
        "import shutil\n",
        "!pip install requests-html\n",
        "from requests_html import HTML, HTMLSession"
      ],
      "execution_count": null,
      "outputs": []
    },
    {
      "cell_type": "code",
      "metadata": {
        "id": "8ZQPFvVrgw3L",
        "colab_type": "code",
        "colab": {}
      },
      "source": [
        "from google.colab import drive\n",
        "drive.mount('/gdrive')"
      ],
      "execution_count": null,
      "outputs": []
    },
    {
      "cell_type": "code",
      "metadata": {
        "id": "BU-15yfOcvIc",
        "colab_type": "code",
        "colab": {}
      },
      "source": [
        "BASE_DIR = '/gdrive'\n",
        "DOWNLOADS_DIR = os.path.join(BASE_DIR, '/CatScrapApp/data/products/images')\n",
        "os.makedirs(DOWNLOADS_DIR, exist_ok=True) \n",
        "# /CatScrapApp/data/products/images"
      ],
      "execution_count": null,
      "outputs": []
    },
    {
      "cell_type": "code",
      "metadata": {
        "id": "3zPfyjW9_4Mm",
        "colab_type": "code",
        "colab": {}
      },
      "source": [
        "session = HTMLSession()"
      ],
      "execution_count": null,
      "outputs": []
    },
    {
      "cell_type": "code",
      "metadata": {
        "id": "YctAshSHaaKn",
        "colab_type": "code",
        "colab": {}
      },
      "source": [
        "brand = 'ford'\n",
        "page_num = 1"
      ],
      "execution_count": null,
      "outputs": []
    },
    {
      "cell_type": "code",
      "metadata": {
        "id": "5gemvUBRKIik",
        "colab_type": "code",
        "colab": {}
      },
      "source": [
        "def get_page_images(brand, page_num):\n",
        "    rows = []\n",
        "    n = 0\n",
        "    if page_num == 1:\n",
        "        url = f'https://www.catalyticconverterrecycling.com/carbrand/{brand}'\n",
        "    else:\n",
        "        url = f'https://www.catalyticconverterrecycling.com/carbrand/{brand}/{page_num}'\n",
        "    r = session.get(url)\n",
        "    _url = r.html.find('.img-responsive')\n",
        "    image_urls = _url[:]\n",
        "    for image_url in image_urls:\n",
        "        base_url = 'https://www.catalyticconverterrecycling.com'\n",
        "        i = image_url.attrs\n",
        "        rel_link = i['src']\n",
        "        alt= i['alt']\n",
        "        image_path = f'{base_url}{rel_link}'\n",
        "        image_id = f'{brand}_{alt}_{n}'\n",
        "        row = image_id, image_path, alt\n",
        "        rows.append(row)\n",
        "        dl_file_name = f'{brand}_{alt}'\n",
        "        dl_path = f'/CatScrapApp/data/products/images/{dl_file_name}'\n",
        "\n",
        "        with requests.get(url, stream=True) as r:\n",
        "            with open(dl_path, 'wb') as file_obj:\n",
        "                shutil.copyfileobj(r.raw, file_obj)\n",
        "\n",
        "        data = []\n",
        "\n",
        "        for row in rows:\n",
        "            d = dict()\n",
        "\n",
        "            d['image_id'] = image_id\n",
        "            d['car_maker'] = brand\n",
        "            d['image_path'] = dl_path\n",
        "    \n",
        "            data.append(d)\n",
        "\n",
        "        df = pd.DataFrame(data)\n",
        "\n",
        "        n +=1\n",
        "    print(rows[:20]) \n",
        " # Add data to pandas df with other page data, by car brand"
      ],
      "execution_count": null,
      "outputs": []
    },
    {
      "cell_type": "code",
      "metadata": {
        "colab_type": "code",
        "id": "U4qcJ-qyMdLk",
        "colab": {}
      },
      "source": [
        "def get_all_page_images(brand, num_pages, page_num):\n",
        "    while page_num <= num_pages:\n",
        "        get_page_images(brand, page_num)\n",
        "        page_num +=1"
      ],
      "execution_count": null,
      "outputs": []
    },
    {
      "cell_type": "code",
      "metadata": {
        "id": "5XwkiA-jEYVv",
        "colab_type": "code",
        "colab": {}
      },
      "source": [
        "get_all_page_images('ford', 42, 1)"
      ],
      "execution_count": null,
      "outputs": []
    },
    {
      "cell_type": "code",
      "metadata": {
        "id": "uLR3Al-MdiWt",
        "colab_type": "code",
        "colab": {}
      },
      "source": [
        "with requests.get(url, stream=True) as r:\n",
        "    with open(dl_path, 'wb') as file_obj:\n",
        "        shutil.copyfileobj(r.raw, file_obj)"
      ],
      "execution_count": null,
      "outputs": []
    },
    {
      "cell_type": "code",
      "metadata": {
        "id": "VPBlVcXkR5lx",
        "colab_type": "code",
        "colab": {}
      },
      "source": [
        "data = []\n",
        "rows = rows\n",
        "for row in rows:\n",
        "    d = dict()\n",
        "\n",
        "    d['image_id'] = row.text.strip()[0]\n",
        "    d['car_maker'] = row.split('-')[0]\n",
        "    d['image_path'] = dl_path\n",
        "    \n",
        "    data.append(d)\n",
        "\n",
        "\n",
        "df = pd.DataFrame(data)"
      ],
      "execution_count": null,
      "outputs": []
    }
  ]
}